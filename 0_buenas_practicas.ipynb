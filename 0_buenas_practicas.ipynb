{
 "cells": [
  {
   "cell_type": "markdown",
   "metadata": {},
   "source": [
    "# Curso Basico de Manipulacion y Transformacion de datos con Pandas y Numpy\n",
    "\n",
    "Instructor: Carlos Alarcon"
   ]
  },
  {
   "cell_type": "markdown",
   "metadata": {},
   "source": [
    "## Preparando el entonrno de trabajo\n",
    "\n",
    "Se crea en el entorno local una carpeta de nombre *visualizacion_datos_matplotlib* y desde alli se crea un entorno virtual\n",
    "\n",
    "    virtualenv env\n",
    "    source env/bin/activate\n",
    "\n",
    "Desactivemolo un momento mientras creamos un repositorio de git\n",
    "\n",
    "    deactivate\n",
    "    git init\n",
    "    git status\n",
    "\n",
    "Vamos a poner en practica una buena practica, que es ignorar el entorno virtual dentro del repositorio, esto se hace creando un archivo **.gitignore.** Este archivo sirve para no llevar cosas al repositorio remoto, cuando se vaya a compartir el proyecto. Esto se hace escribiendo dentro de dicho archivo el nombre de la carpeta y un slash:\n",
    "\n",
    "    env/\n",
    "\n",
    "### Preparando el repositorio remoto\n",
    "\n",
    "En GitHUb creo un nuevo repositorio con el mismo nombre(*visualizacion_datos_matplotlib*).\n",
    "\n",
    "Una vez creado el repositorio, solo contendra un archivo readme. Ahora vamos a copiar la direccion del repositorio, dando click en el boton verde, nos aseguramos que este seleccionada con la opcion SSH, y volvemos a nuestra consola local.\n",
    "\n",
    "Nos aseguramos que estemos en la rama master de nuestro repositorio, y vamos a decirle a git que vamos a elegir un origen remoto de nuestros archivos, con el comando:\n",
    "\n",
    "    sudo git remote add origin [direccion del repo]\n",
    "\n",
    "para nuestro repositorio especificio seria:\n",
    "\n",
    "    sudo git remote add origin git@github.com:carlcri/git@github.com:carlcri/basico_manipulacion_pandas_numpy.git\n"
   ]
  },
  {
   "cell_type": "markdown",
   "metadata": {},
   "source": [
    "Vamos a preparar nuestro rrepositorio antes de hacer el PUSH para llevar los archivos desde el repo local al remoto.\n",
    "\n",
    "Asi que lo primero es hacer un PULL para integrar los cambios remotos, esta sera una operacion especial, con este comando:\n",
    "\n",
    "    sudo git pull origin main --allow-unrelated-histories\n",
    "\n",
    "Analizando este comando con cuidado vemos que el *origin* es *main*, debido a que en GitHub por defecto, no existe la rama MASTER sino MAIN\n",
    "\n",
    "Una vez se ejecuta el anterior comando, entramos a una pantalla que siempre es dificil de cerrar, por lo general se cierra con una combinaciond de teclas como son:\n",
    "\n",
    "    CTRL + X\n",
    "    CTRL + X + X\n",
    "\n",
    "Al revisar la carpeta del repositorio con el comando *ls* se observa hay un archivo nuevo que antes no estaba, peor si en el remoto: *README.md*.\n",
    "\n",
    "Ahora estamos listos para el PULL, ¡pero antes!\n",
    "\n",
    "Recuerda que *Freddy Vega* siempre hace un PULL para evitar conflictos:\n",
    "\n",
    "    sudo git pull origin main\n",
    "\n",
    "Y ahora si el famoso *push*\n",
    "\n",
    "    sudo git push origin master:main\n",
    "\n",
    "Revisamos lo que hay dentro del repositorio een GITHUB y se observa los cambios locales se guardaron en el remoto. Asi que demonos por bien servidos."
   ]
  },
  {
   "cell_type": "markdown",
   "metadata": {},
   "source": [
    "## Instalando las librerias necesarias\n",
    "\n",
    "Asegurerase que se este usando el kernel vinculado con el ambiente virtual, y no el kernel Global. Una vez asegurado lo anterior debemos instalar las liberiar basicas.\n",
    "\n",
    "Si por ejemplo en este punto importamos una libreria basica como puede ser PANDAS, pues nos va a generar un error donde no existe tal modulo.\n",
    "\n",
    "Asi que para importar e instalar todad las librerias necesarias, y no una por una, se recomienda con archivo de *requirements.txt* para que instale pandas, numpy, y matplotlib\n",
    "\n",
    "ahora para instalarmo, simplemente:\n",
    "\n",
    "    pip3 install -r requirements.txt\n",
    "\n",
    "Y con el comando freeze verficamos las dependencias instaladas\n",
    "\n",
    "    pip freeze\n"
   ]
  },
  {
   "cell_type": "code",
   "execution_count": 3,
   "metadata": {},
   "outputs": [],
   "source": [
    "import pandas as pd\n",
    "import numpy as np \n",
    "import matplotlib.pyplot as plt "
   ]
  }
 ],
 "metadata": {
  "kernelspec": {
   "display_name": "Python 3.8.10 ('env': venv)",
   "language": "python",
   "name": "python3"
  },
  "language_info": {
   "codemirror_mode": {
    "name": "ipython",
    "version": 3
   },
   "file_extension": ".py",
   "mimetype": "text/x-python",
   "name": "python",
   "nbconvert_exporter": "python",
   "pygments_lexer": "ipython3",
   "version": "3.8.10"
  },
  "orig_nbformat": 4,
  "vscode": {
   "interpreter": {
    "hash": "cd000dc4a9c29f212f4c7c3b653f75662e27e7e5d8671d36c9f3de7043cce686"
   }
  }
 },
 "nbformat": 4,
 "nbformat_minor": 2
}
